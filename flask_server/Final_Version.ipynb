{
 "cells": [
  {
   "cell_type": "code",
   "execution_count": 1,
   "id": "5a2e2d90-55dc-4993-bacc-bc60f0a94d2d",
   "metadata": {},
   "outputs": [],
   "source": [
    "import os\n",
    "import cv2\n",
    "import numpy as np\n",
    "import pandas as pd\n",
    "from tensorflow.keras.preprocessing.image import load_img, img_to_array, ImageDataGenerator\n",
    "from sklearn.model_selection import train_test_split\n",
    "from tensorflow.keras.models import Sequential\n",
    "from tensorflow.keras.layers import Conv2D, MaxPooling2D, Dense, Dropout, Flatten\n",
    "from tensorflow.keras.optimizers import Adam"
   ]
  },
  {
   "cell_type": "code",
   "execution_count": 2,
   "id": "292990b8-e3ce-41f9-89f4-d27a62ac196f",
   "metadata": {},
   "outputs": [],
   "source": [
    "train_data_gen = ImageDataGenerator(rescale=1./255)\n",
    "validation_data_gen = ImageDataGenerator(rescale=1./255)"
   ]
  },
  {
   "cell_type": "code",
   "execution_count": 3,
   "id": "73b5a369-5b4a-498b-80f2-df7faf30d328",
   "metadata": {},
   "outputs": [
    {
     "name": "stdout",
     "output_type": "stream",
     "text": [
      "Found 17923 images belonging to 3 classes.\n",
      "Found 4180 images belonging to 3 classes.\n"
     ]
    }
   ],
   "source": [
    "# Preprocesstrain images\n",
    "train_generator = train_data_gen.flow_from_directory(\n",
    "        './new_datasets/train',\n",
    "        target_size=(48, 48),\n",
    "        batch_size=32,\n",
    "        color_mode=\"grayscale\",\n",
    "        class_mode='categorical')\n",
    "# Preprocess test images\n",
    "validation_generator = validation_data_gen.flow_from_directory(\n",
    "        './new_datasets/test',\n",
    "        target_size=(48, 48),\n",
    "        batch_size=32,\n",
    "        color_mode=\"grayscale\",\n",
    "        class_mode='categorical')"
   ]
  },
  {
   "cell_type": "code",
   "execution_count": 4,
   "id": "a6f1fb97-43a3-4156-ac45-e746f0e14605",
   "metadata": {},
   "outputs": [],
   "source": [
    "import cv2\n",
    "from tensorflow.keras.models import Sequential\n",
    "from tensorflow.keras.layers import Conv2D, MaxPooling2D, Dense, Dropout, Flatten, Input, BatchNormalization\n",
    "from tensorflow.keras.optimizers import Adam\n",
    "from tensorflow.keras.preprocessing.image import ImageDataGenerator\n",
    "from tensorflow.keras.callbacks import EarlyStopping, ModelCheckpoint\n",
    "\n",
    "# Create model structure\n",
    "emotion_model = Sequential()\n",
    "\n",
    "# Define input layer\n",
    "emotion_model.add(Input(shape=(48, 48, 1)))\n",
    "\n",
    "# Add convolutional layers, pooling layers, and dropout layers with batch normalization\n",
    "emotion_model.add(Conv2D(32, kernel_size=(3, 3), activation='relu'))\n",
    "emotion_model.add(BatchNormalization())\n",
    "emotion_model.add(MaxPooling2D(pool_size=(2, 2)))\n",
    "emotion_model.add(Dropout(0.3))\n",
    "\n",
    "emotion_model.add(Conv2D(64, kernel_size=(3, 3), activation='relu'))\n",
    "emotion_model.add(BatchNormalization())\n",
    "emotion_model.add(MaxPooling2D(pool_size=(2, 2)))\n",
    "emotion_model.add(Dropout(0.3))\n",
    "\n",
    "emotion_model.add(Conv2D(128, kernel_size=(3, 3), activation='relu'))\n",
    "emotion_model.add(BatchNormalization())\n",
    "emotion_model.add(MaxPooling2D(pool_size=(2, 2)))\n",
    "emotion_model.add(Dropout(0.4))\n",
    "\n",
    "emotion_model.add(Flatten())\n",
    "emotion_model.add(Dense(512, activation='relu', kernel_regularizer='l2'))\n",
    "emotion_model.add(Dropout(0.5))\n",
    "emotion_model.add(Dense(3, activation='softmax'))\n",
    "\n",
    "cv2.ocl.setUseOpenCL(False)\n",
    "\n",
    "# Compile the model\n",
    "emotion_model.compile(loss='categorical_crossentropy', \n",
    "                      optimizer=Adam(learning_rate=0.0001),  # Reduced learning rate\n",
    "                      metrics=['accuracy'])"
   ]
  },
  {
   "cell_type": "code",
   "execution_count": 5,
   "id": "025ca35d-b4cb-4169-a38c-31b906b60dd1",
   "metadata": {},
   "outputs": [],
   "source": [
    "# Implement early stopping and model checkpoint\n",
    "from tensorflow.keras.callbacks import ReduceLROnPlateau\n",
    "\n",
    "early_stopping = EarlyStopping(monitor='val_loss', patience=10, restore_best_weights=True)\n",
    "model_checkpoint = ModelCheckpoint('best_emotion_model.keras', save_best_only=True, monitor='val_loss')\n",
    "reduce_lr = ReduceLROnPlateau(monitor='val_loss', factor=0.2, patience=5, min_lr=0.00001)\n",
    "# Data augmentation\n",
    "datagen = ImageDataGenerator(\n",
    "    rescale=1./255,\n",
    "    rotation_range=30,\n",
    "    width_shift_range=0.3,\n",
    "    height_shift_range=0.3,\n",
    "    shear_range=0.3,\n",
    "    zoom_range=0.3,\n",
    "    horizontal_flip=True,\n",
    "    fill_mode='nearest'\n",
    ")"
   ]
  },
  {
   "cell_type": "code",
   "execution_count": 6,
   "id": "42da2e36-6975-434b-a40f-09bd78bd78c7",
   "metadata": {
    "scrolled": true
   },
   "outputs": [
    {
     "name": "stdout",
     "output_type": "stream",
     "text": [
      "Epoch 1/50\n",
      "\u001b[1m  1/561\u001b[0m \u001b[37m━━━━━━━━━━━━━━━━━━━━\u001b[0m \u001b[1m12:42\u001b[0m 1s/step - accuracy: 0.3125 - loss: 11.8116"
     ]
    },
    {
     "name": "stderr",
     "output_type": "stream",
     "text": [
      "/Users/bob/anaconda3/envs/Sch_dev/lib/python3.12/site-packages/keras/src/trainers/data_adapters/py_dataset_adapter.py:121: UserWarning: Your `PyDataset` class should call `super().__init__(**kwargs)` in its constructor. `**kwargs` can include `workers`, `use_multiprocessing`, `max_queue_size`. Do not pass these arguments to `fit()`, as they will be ignored.\n",
      "  self._warn_if_super_not_called()\n"
     ]
    },
    {
     "name": "stdout",
     "output_type": "stream",
     "text": [
      "\u001b[1m561/561\u001b[0m \u001b[32m━━━━━━━━━━━━━━━━━━━━\u001b[0m\u001b[37m\u001b[0m \u001b[1m20s\u001b[0m 34ms/step - accuracy: 0.3981 - loss: 9.7461 - val_accuracy: 0.4746 - val_loss: 7.8974\n",
      "Epoch 2/50\n",
      "\u001b[1m561/561\u001b[0m \u001b[32m━━━━━━━━━━━━━━━━━━━━\u001b[0m\u001b[37m\u001b[0m \u001b[1m22s\u001b[0m 38ms/step - accuracy: 0.4709 - loss: 7.3154 - val_accuracy: 0.5737 - val_loss: 6.0060\n",
      "Epoch 3/50\n",
      "\u001b[1m561/561\u001b[0m \u001b[32m━━━━━━━━━━━━━━━━━━━━\u001b[0m\u001b[37m\u001b[0m \u001b[1m21s\u001b[0m 37ms/step - accuracy: 0.5088 - loss: 5.6670 - val_accuracy: 0.5947 - val_loss: 4.5433\n",
      "Epoch 4/50\n",
      "\u001b[1m561/561\u001b[0m \u001b[32m━━━━━━━━━━━━━━━━━━━━\u001b[0m\u001b[37m\u001b[0m \u001b[1m21s\u001b[0m 37ms/step - accuracy: 0.5489 - loss: 4.2680 - val_accuracy: 0.6141 - val_loss: 3.3843\n",
      "Epoch 5/50\n",
      "\u001b[1m561/561\u001b[0m \u001b[32m━━━━━━━━━━━━━━━━━━━━\u001b[0m\u001b[37m\u001b[0m \u001b[1m21s\u001b[0m 38ms/step - accuracy: 0.5576 - loss: 3.1796 - val_accuracy: 0.6136 - val_loss: 2.5093\n",
      "Epoch 6/50\n",
      "\u001b[1m561/561\u001b[0m \u001b[32m━━━━━━━━━━━━━━━━━━━━\u001b[0m\u001b[37m\u001b[0m \u001b[1m20s\u001b[0m 36ms/step - accuracy: 0.5865 - loss: 2.3727 - val_accuracy: 0.6371 - val_loss: 1.8801\n",
      "Epoch 7/50\n",
      "\u001b[1m561/561\u001b[0m \u001b[32m━━━━━━━━━━━━━━━━━━━━\u001b[0m\u001b[37m\u001b[0m \u001b[1m22s\u001b[0m 40ms/step - accuracy: 0.5995 - loss: 1.8278 - val_accuracy: 0.6517 - val_loss: 1.4797\n",
      "Epoch 8/50\n",
      "\u001b[1m561/561\u001b[0m \u001b[32m━━━━━━━━━━━━━━━━━━━━\u001b[0m\u001b[37m\u001b[0m \u001b[1m20s\u001b[0m 35ms/step - accuracy: 0.6139 - loss: 1.4700 - val_accuracy: 0.6577 - val_loss: 1.2462\n",
      "Epoch 9/50\n",
      "\u001b[1m561/561\u001b[0m \u001b[32m━━━━━━━━━━━━━━━━━━━━\u001b[0m\u001b[37m\u001b[0m \u001b[1m20s\u001b[0m 36ms/step - accuracy: 0.6327 - loss: 1.2348 - val_accuracy: 0.6797 - val_loss: 1.0722\n",
      "Epoch 10/50\n",
      "\u001b[1m561/561\u001b[0m \u001b[32m━━━━━━━━━━━━━━━━━━━━\u001b[0m\u001b[37m\u001b[0m \u001b[1m20s\u001b[0m 36ms/step - accuracy: 0.6387 - loss: 1.1113 - val_accuracy: 0.6806 - val_loss: 0.9718\n",
      "Epoch 11/50\n",
      "\u001b[1m561/561\u001b[0m \u001b[32m━━━━━━━━━━━━━━━━━━━━\u001b[0m\u001b[37m\u001b[0m \u001b[1m20s\u001b[0m 36ms/step - accuracy: 0.6556 - loss: 1.0003 - val_accuracy: 0.6940 - val_loss: 0.8961\n",
      "Epoch 12/50\n",
      "\u001b[1m561/561\u001b[0m \u001b[32m━━━━━━━━━━━━━━━━━━━━\u001b[0m\u001b[37m\u001b[0m \u001b[1m21s\u001b[0m 37ms/step - accuracy: 0.6593 - loss: 0.9552 - val_accuracy: 0.6866 - val_loss: 0.8782\n",
      "Epoch 13/50\n",
      "\u001b[1m561/561\u001b[0m \u001b[32m━━━━━━━━━━━━━━━━━━━━\u001b[0m\u001b[37m\u001b[0m \u001b[1m20s\u001b[0m 35ms/step - accuracy: 0.6727 - loss: 0.9002 - val_accuracy: 0.7062 - val_loss: 0.8363\n",
      "Epoch 14/50\n",
      "\u001b[1m561/561\u001b[0m \u001b[32m━━━━━━━━━━━━━━━━━━━━\u001b[0m\u001b[37m\u001b[0m \u001b[1m20s\u001b[0m 35ms/step - accuracy: 0.6803 - loss: 0.8688 - val_accuracy: 0.7031 - val_loss: 0.8176\n",
      "Epoch 15/50\n",
      "\u001b[1m561/561\u001b[0m \u001b[32m━━━━━━━━━━━━━━━━━━━━\u001b[0m\u001b[37m\u001b[0m \u001b[1m20s\u001b[0m 36ms/step - accuracy: 0.6942 - loss: 0.8405 - val_accuracy: 0.7203 - val_loss: 0.7970\n",
      "Epoch 16/50\n",
      "\u001b[1m561/561\u001b[0m \u001b[32m━━━━━━━━━━━━━━━━━━━━\u001b[0m\u001b[37m\u001b[0m \u001b[1m20s\u001b[0m 36ms/step - accuracy: 0.6985 - loss: 0.8320 - val_accuracy: 0.7096 - val_loss: 0.8211\n",
      "Epoch 17/50\n",
      "\u001b[1m561/561\u001b[0m \u001b[32m━━━━━━━━━━━━━━━━━━━━\u001b[0m\u001b[37m\u001b[0m \u001b[1m20s\u001b[0m 36ms/step - accuracy: 0.7124 - loss: 0.8078 - val_accuracy: 0.7273 - val_loss: 0.7794\n",
      "Epoch 18/50\n",
      "\u001b[1m561/561\u001b[0m \u001b[32m━━━━━━━━━━━━━━━━━━━━\u001b[0m\u001b[37m\u001b[0m \u001b[1m20s\u001b[0m 35ms/step - accuracy: 0.7162 - loss: 0.7939 - val_accuracy: 0.7352 - val_loss: 0.7658\n",
      "Epoch 19/50\n",
      "\u001b[1m561/561\u001b[0m \u001b[32m━━━━━━━━━━━━━━━━━━━━\u001b[0m\u001b[37m\u001b[0m \u001b[1m20s\u001b[0m 36ms/step - accuracy: 0.7247 - loss: 0.7721 - val_accuracy: 0.7318 - val_loss: 0.7671\n",
      "Epoch 20/50\n",
      "\u001b[1m561/561\u001b[0m \u001b[32m━━━━━━━━━━━━━━━━━━━━\u001b[0m\u001b[37m\u001b[0m \u001b[1m20s\u001b[0m 35ms/step - accuracy: 0.7296 - loss: 0.7615 - val_accuracy: 0.7364 - val_loss: 0.7666\n",
      "Epoch 21/50\n",
      "\u001b[1m561/561\u001b[0m \u001b[32m━━━━━━━━━━━━━━━━━━━━\u001b[0m\u001b[37m\u001b[0m \u001b[1m20s\u001b[0m 36ms/step - accuracy: 0.7409 - loss: 0.7443 - val_accuracy: 0.7378 - val_loss: 0.7633\n",
      "Epoch 22/50\n",
      "\u001b[1m561/561\u001b[0m \u001b[32m━━━━━━━━━━━━━━━━━━━━\u001b[0m\u001b[37m\u001b[0m \u001b[1m20s\u001b[0m 35ms/step - accuracy: 0.7358 - loss: 0.7516 - val_accuracy: 0.7397 - val_loss: 0.7529\n",
      "Epoch 23/50\n",
      "\u001b[1m561/561\u001b[0m \u001b[32m━━━━━━━━━━━━━━━━━━━━\u001b[0m\u001b[37m\u001b[0m \u001b[1m20s\u001b[0m 35ms/step - accuracy: 0.7473 - loss: 0.7390 - val_accuracy: 0.7435 - val_loss: 0.7515\n",
      "Epoch 24/50\n",
      "\u001b[1m561/561\u001b[0m \u001b[32m━━━━━━━━━━━━━━━━━━━━\u001b[0m\u001b[37m\u001b[0m \u001b[1m20s\u001b[0m 35ms/step - accuracy: 0.7572 - loss: 0.7196 - val_accuracy: 0.7464 - val_loss: 0.7447\n",
      "Epoch 25/50\n",
      "\u001b[1m561/561\u001b[0m \u001b[32m━━━━━━━━━━━━━━━━━━━━\u001b[0m\u001b[37m\u001b[0m \u001b[1m20s\u001b[0m 36ms/step - accuracy: 0.7528 - loss: 0.7337 - val_accuracy: 0.7493 - val_loss: 0.7459\n",
      "Epoch 26/50\n",
      "\u001b[1m561/561\u001b[0m \u001b[32m━━━━━━━━━━━━━━━━━━━━\u001b[0m\u001b[37m\u001b[0m \u001b[1m20s\u001b[0m 35ms/step - accuracy: 0.7618 - loss: 0.7141 - val_accuracy: 0.7502 - val_loss: 0.7471\n",
      "Epoch 27/50\n",
      "\u001b[1m561/561\u001b[0m \u001b[32m━━━━━━━━━━━━━━━━━━━━\u001b[0m\u001b[37m\u001b[0m \u001b[1m21s\u001b[0m 36ms/step - accuracy: 0.7675 - loss: 0.7068 - val_accuracy: 0.7447 - val_loss: 0.7503\n",
      "Epoch 28/50\n",
      "\u001b[1m561/561\u001b[0m \u001b[32m━━━━━━━━━━━━━━━━━━━━\u001b[0m\u001b[37m\u001b[0m \u001b[1m20s\u001b[0m 36ms/step - accuracy: 0.7724 - loss: 0.7022 - val_accuracy: 0.7335 - val_loss: 0.7845\n",
      "Epoch 29/50\n",
      "\u001b[1m561/561\u001b[0m \u001b[32m━━━━━━━━━━━━━━━━━━━━\u001b[0m\u001b[37m\u001b[0m \u001b[1m20s\u001b[0m 36ms/step - accuracy: 0.7678 - loss: 0.7139 - val_accuracy: 0.7565 - val_loss: 0.7399\n",
      "Epoch 30/50\n",
      "\u001b[1m561/561\u001b[0m \u001b[32m━━━━━━━━━━━━━━━━━━━━\u001b[0m\u001b[37m\u001b[0m \u001b[1m22s\u001b[0m 39ms/step - accuracy: 0.7662 - loss: 0.7065 - val_accuracy: 0.7689 - val_loss: 0.7321\n",
      "Epoch 31/50\n",
      "\u001b[1m561/561\u001b[0m \u001b[32m━━━━━━━━━━━━━━━━━━━━\u001b[0m\u001b[37m\u001b[0m \u001b[1m22s\u001b[0m 40ms/step - accuracy: 0.7696 - loss: 0.6996 - val_accuracy: 0.7634 - val_loss: 0.7418\n",
      "Epoch 32/50\n",
      "\u001b[1m561/561\u001b[0m \u001b[32m━━━━━━━━━━━━━━━━━━━━\u001b[0m\u001b[37m\u001b[0m \u001b[1m21s\u001b[0m 37ms/step - accuracy: 0.7761 - loss: 0.6933 - val_accuracy: 0.7409 - val_loss: 0.7690\n",
      "Epoch 33/50\n",
      "\u001b[1m561/561\u001b[0m \u001b[32m━━━━━━━━━━━━━━━━━━━━\u001b[0m\u001b[37m\u001b[0m \u001b[1m21s\u001b[0m 37ms/step - accuracy: 0.7863 - loss: 0.6839 - val_accuracy: 0.7600 - val_loss: 0.7384\n",
      "Epoch 34/50\n",
      "\u001b[1m561/561\u001b[0m \u001b[32m━━━━━━━━━━━━━━━━━━━━\u001b[0m\u001b[37m\u001b[0m \u001b[1m21s\u001b[0m 37ms/step - accuracy: 0.7942 - loss: 0.6662 - val_accuracy: 0.7435 - val_loss: 0.7810\n",
      "Epoch 35/50\n",
      "\u001b[1m561/561\u001b[0m \u001b[32m━━━━━━━━━━━━━━━━━━━━\u001b[0m\u001b[37m\u001b[0m \u001b[1m21s\u001b[0m 38ms/step - accuracy: 0.7916 - loss: 0.6768 - val_accuracy: 0.7500 - val_loss: 0.7646\n",
      "Epoch 36/50\n",
      "\u001b[1m561/561\u001b[0m \u001b[32m━━━━━━━━━━━━━━━━━━━━\u001b[0m\u001b[37m\u001b[0m \u001b[1m20s\u001b[0m 36ms/step - accuracy: 0.7981 - loss: 0.6622 - val_accuracy: 0.7581 - val_loss: 0.7528\n",
      "Epoch 37/50\n",
      "\u001b[1m561/561\u001b[0m \u001b[32m━━━━━━━━━━━━━━━━━━━━\u001b[0m\u001b[37m\u001b[0m \u001b[1m20s\u001b[0m 35ms/step - accuracy: 0.7885 - loss: 0.6784 - val_accuracy: 0.7584 - val_loss: 0.7548\n",
      "Epoch 38/50\n",
      "\u001b[1m561/561\u001b[0m \u001b[32m━━━━━━━━━━━━━━━━━━━━\u001b[0m\u001b[37m\u001b[0m \u001b[1m20s\u001b[0m 35ms/step - accuracy: 0.7964 - loss: 0.6733 - val_accuracy: 0.7667 - val_loss: 0.7442\n",
      "Epoch 39/50\n",
      "\u001b[1m561/561\u001b[0m \u001b[32m━━━━━━━━━━━━━━━━━━━━\u001b[0m\u001b[37m\u001b[0m \u001b[1m20s\u001b[0m 35ms/step - accuracy: 0.8067 - loss: 0.6517 - val_accuracy: 0.7579 - val_loss: 0.7635\n",
      "Epoch 40/50\n",
      "\u001b[1m561/561\u001b[0m \u001b[32m━━━━━━━━━━━━━━━━━━━━\u001b[0m\u001b[37m\u001b[0m \u001b[1m20s\u001b[0m 36ms/step - accuracy: 0.7995 - loss: 0.6644 - val_accuracy: 0.7658 - val_loss: 0.7451\n"
     ]
    }
   ],
   "source": [
    "\n",
    "# Assuming you have training and validation data generators\n",
    "# train_generator = datagen.flow_from_directory('path/to/train', target_size=(48, 48), color_mode='grayscale', class_mode='categorical', batch_size=32)\n",
    "# validation_generator = datagen.flow_from_directory('path/to/validation', target_size=(48, 48), color_mode='grayscale', class_mode='categorical', batch_size=32)\n",
    "\n",
    "# Train the model\n",
    "history = emotion_model.fit(\n",
    "    train_generator,\n",
    "    epochs=50,\n",
    "    validation_data=validation_generator,\n",
    "    callbacks=[early_stopping, model_checkpoint]\n",
    ")"
   ]
  },
  {
   "cell_type": "code",
   "execution_count": 7,
   "id": "2cb8a6c8-0dc2-45bb-aab5-0b5919c2d7ee",
   "metadata": {},
   "outputs": [
    {
     "data": {
      "image/png": "[encoded data removed]",
      "text/plain": [
       "<Figure size 640x480 with 1 Axes>"
      ]
     },
     "metadata": {},
     "output_type": "display_data"
    }
   ],
   "source": [
    "import matplotlib.pyplot as plt\n",
    "\n",
    "plt.plot(history.history['accuracy'])\n",
    "plt.plot(history.history['val_accuracy'])\n",
    "plt.title('Model accuracy')\n",
    "plt.ylabel('Accuracy')\n",
    "plt.xlabel('Epoch')\n",
    "plt.legend(['Train', 'Validation'], loc='upper left')\n",
    "plt.show()"
   ]
  },
  {
   "cell_type": "code",
   "execution_count": 10,
   "id": "bf40ca6e-d239-458b-828c-0818405c1b77",
   "metadata": {},
   "outputs": [
    {
     "name": "stdout",
     "output_type": "stream",
     "text": [
      "\u001b[1m131/131\u001b[0m \u001b[32m━━━━━━━━━━━━━━━━━━━━\u001b[0m\u001b[37m\u001b[0m \u001b[1m1s\u001b[0m 8ms/step - accuracy: 0.7607 - loss: 0.7392\n",
      "Validation Accuracy: 76.89%\n"
     ]
    }
   ],
   "source": [
    "# Evaluate the model on the validation data\n",
    "batch_size = 32  # Define batch size\n",
    "num_validation_samples = len(validation_generator.classes)  # Calculate total number of validation samples\n",
    "steps = num_validation_samples // batch_size  # Calculate number of steps\n",
    "\n",
    "loss, accuracy = emotion_model.evaluate(validation_generator)\n",
    "print(\"Validation Accuracy: {:.2f}%\".format(accuracy * 100))"
   ]
  },
  {
   "cell_type": "code",
   "execution_count": 11,
   "id": "b06c4a42-6b15-4d74-b3ef-d7c8b317a31a",
   "metadata": {},
   "outputs": [
    {
     "name": "stderr",
     "output_type": "stream",
     "text": [
      "WARNING:absl:You are saving your model as an HDF5 file via `model.save()` or `keras.saving.save_model(model)`. This file format is considered legacy. We recommend using instead the native Keras format, e.g. `model.save('my_model.keras')` or `keras.saving.save_model(model, 'my_model.keras')`. \n"
     ]
    }
   ],
   "source": [
    "model_json = emotion_model.to_json()\n",
    "with open(\"final_model_v3.json\",'w') as json_file:\n",
    "    json_file.write(model_json)\n",
    "emotion_model.save(\"final_model_v3.h5\")"
   ]
  },
  {
   "cell_type": "code",
   "execution_count": null,
   "id": "8eb73e9c-8012-4288-848d-ae58407487f2",
   "metadata": {},
   "outputs": [],
   "source": []
  }
 ],
 "metadata": {
  "kernelspec": {
   "display_name": "Python 3 (ipykernel)",
   "language": "python",
   "name": "python3"
  },
  "language_info": {
   "codemirror_mode": {
    "name": "ipython",
    "version": 3
   },
   "file_extension": ".py",
   "mimetype": "text/x-python",
   "name": "python",
   "nbconvert_exporter": "python",
   "pygments_lexer": "ipython3",
   "version": "3.12.2"
  }
 },
 "nbformat": 4,
 "nbformat_minor": 5
}
